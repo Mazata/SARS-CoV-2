{
 "cells": [
  {
   "cell_type": "code",
   "execution_count": 1,
   "metadata": {
    "collapsed": true,
    "pycharm": {
     "is_executing": false
    }
   },
   "outputs": [],
   "source": [
    "import pandas as pd\n",
    "import numpy as np\n",
    "import matplotlib.pyplot as plt\n"
   ]
  },
  {
   "cell_type": "code",
   "execution_count": 2,
   "outputs": [
    {
     "data": {
      "text/plain": "<bound method NDFrame.head of      OBJECTID  ADE   GF  BSG     RS     AGS        SDV_RS  \\\n0           1  4.0  4.0  1.0   1001  1001.0  1.001000e+10   \n1           2  4.0  4.0  1.0   1002  1002.0  1.002000e+10   \n2           3  4.0  4.0  1.0   1003  1003.0  1.003000e+10   \n3           4  4.0  4.0  1.0   1004  1004.0  1.004000e+10   \n4           5  4.0  4.0  1.0   1051  1051.0  1.051004e+10   \n..        ...  ...  ...  ...    ...     ...           ...   \n407       411  NaN  NaN  NaN  11005     NaN           NaN   \n408       412  NaN  NaN  NaN  11006     NaN           NaN   \n409       413  NaN  NaN  NaN  11001     NaN           NaN   \n410       414  NaN  NaN  NaN  11002     NaN           NaN   \n411       415  NaN  NaN  NaN  11007     NaN           NaN   \n\n                                 GEN               BEZ   IBZ  ...  \\\n0                          Flensburg  Kreisfreie Stadt  40.0  ...   \n1                               Kiel  Kreisfreie Stadt  40.0  ...   \n2                             Lübeck  Kreisfreie Stadt  40.0  ...   \n3                         Neumünster  Kreisfreie Stadt  40.0  ...   \n4                       Dithmarschen             Kreis  42.0  ...   \n..                               ...               ...   ...  ...   \n407                   Berlin Spandau  Kreisfreie Stadt   NaN  ...   \n408       Berlin Steglitz-Zehlendorf  Kreisfreie Stadt   NaN  ...   \n409                     Berlin Mitte  Kreisfreie Stadt   NaN  ...   \n410  Berlin Friedrichshain-Kreuzberg  Kreisfreie Stadt   NaN  ...   \n411      Berlin Tempelhof-Schöneberg  Kreisfreie Stadt   NaN  ...   \n\n      Shape__Area  Shape__Length  death_rate  cases  deaths  cases_per_100k  \\\n0    4.918293e+07   42752.592015    0.000000     12       0       13.407222   \n1    1.122314e+08  104373.457289    0.000000     36       0       14.542634   \n2    2.116771e+08  146459.457897    4.761905     21       1        9.668597   \n3    7.140224e+07   54863.995416    0.000000      1       0        1.258067   \n4    1.425511e+09  250768.570200    0.000000     12       0        9.008333   \n..            ...            ...         ...    ...     ...             ...   \n407  9.294042e+07   60759.065594    0.000000     23       0        9.427118   \n408  1.026872e+08   62943.933930    0.000000     70       0       22.675957   \n409  3.945211e+07   35771.879143    0.000000    133       0       34.619910   \n410  2.042866e+07   32780.590915    0.000000     93       0       32.095306   \n411  5.312295e+07   46308.567413    0.000000     95       0       27.015959   \n\n     cases_per_population                  BL BL_ID  \\\n0                0.013407  Schleswig-Holstein     1   \n1                0.014543  Schleswig-Holstein     1   \n2                0.009669  Schleswig-Holstein     1   \n3                0.001258  Schleswig-Holstein     1   \n4                0.009008  Schleswig-Holstein     1   \n..                    ...                 ...   ...   \n407              0.009427              Berlin    11   \n408              0.022676              Berlin    11   \n409              0.034620              Berlin    11   \n410              0.032095              Berlin    11   \n411              0.027016              Berlin    11   \n\n                                 county  \n0                          SK Flensburg  \n1                               SK Kiel  \n2                             SK Lübeck  \n3                         SK Neumünster  \n4                       LK Dithmarschen  \n..                                  ...  \n407                   SK Berlin Spandau  \n408       SK Berlin Steglitz-Zehlendorf  \n409                     SK Berlin Mitte  \n410  SK Berlin Friedrichshain-Kreuzberg  \n411      SK Berlin Tempelhof-Schöneberg  \n\n[412 rows x 36 columns]>"
     },
     "metadata": {},
     "output_type": "execute_result",
     "execution_count": 2
    }
   ],
   "source": [
    "df = pd.read_csv('data/RKI_Corona_Landkreise.csv')\n",
    "df.head\n"
   ],
   "metadata": {
    "collapsed": false,
    "pycharm": {
     "name": "#%%\n",
     "is_executing": false
    }
   }
  }
 ],
 "metadata": {
  "kernelspec": {
   "display_name": "Python 3",
   "language": "python",
   "name": "python3"
  },
  "language_info": {
   "codemirror_mode": {
    "name": "ipython",
    "version": 2
   },
   "file_extension": ".py",
   "mimetype": "text/x-python",
   "name": "python",
   "nbconvert_exporter": "python",
   "pygments_lexer": "ipython2",
   "version": "2.7.6"
  },
  "pycharm": {
   "stem_cell": {
    "cell_type": "raw",
    "source": [],
    "metadata": {
     "collapsed": false
    }
   }
  }
 },
 "nbformat": 4,
 "nbformat_minor": 0
}