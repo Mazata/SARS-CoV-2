{
 "cells": [
  {
   "cell_type": "code",
   "execution_count": 2,
   "metadata": {
    "pycharm": {
     "is_executing": false
    }
   },
   "outputs": [],
   "source": [
    "import pandas as pd\n",
    "import numpy as np\n",
    "import matplotlib.pyplot as plt\n"
   ]
  },
  {
   "cell_type": "markdown",
   "metadata": {},
   "source": [
    "# Preprocessing for time stamped Corona Cases on german county level"
   ]
  },
  {
   "cell_type": "markdown",
   "metadata": {},
   "source": [
    "## Load Dataset from Robert-Koch-Institut with included time stamps."
   ]
  },
  {
   "cell_type": "code",
   "execution_count": 77,
   "metadata": {
    "pycharm": {
     "is_executing": false,
     "name": "#%%\n"
    }
   },
   "outputs": [
    {
     "data": {
      "text/html": [
       "<div>\n",
       "<style scoped>\n",
       "    .dataframe tbody tr th:only-of-type {\n",
       "        vertical-align: middle;\n",
       "    }\n",
       "\n",
       "    .dataframe tbody tr th {\n",
       "        vertical-align: top;\n",
       "    }\n",
       "\n",
       "    .dataframe thead th {\n",
       "        text-align: right;\n",
       "    }\n",
       "</style>\n",
       "<table border=\"1\" class=\"dataframe\">\n",
       "  <thead>\n",
       "    <tr style=\"text-align: right;\">\n",
       "      <th></th>\n",
       "      <th>IdBundesland</th>\n",
       "      <th>Bundesland</th>\n",
       "      <th>Landkreis</th>\n",
       "      <th>Altersgruppe</th>\n",
       "      <th>Geschlecht</th>\n",
       "      <th>AnzahlFall</th>\n",
       "      <th>AnzahlTodesfall</th>\n",
       "      <th>ObjectId</th>\n",
       "      <th>Meldedatum</th>\n",
       "      <th>IdLandkreis</th>\n",
       "    </tr>\n",
       "  </thead>\n",
       "  <tbody>\n",
       "    <tr>\n",
       "      <th>0</th>\n",
       "      <td>15</td>\n",
       "      <td>Sachsen-Anhalt</td>\n",
       "      <td>SK Magdeburg</td>\n",
       "      <td>A35-A59</td>\n",
       "      <td>M</td>\n",
       "      <td>2</td>\n",
       "      <td>0</td>\n",
       "      <td>154936</td>\n",
       "      <td>2020-03-18T00:00:00.000Z</td>\n",
       "      <td>15003</td>\n",
       "    </tr>\n",
       "    <tr>\n",
       "      <th>1</th>\n",
       "      <td>15</td>\n",
       "      <td>Sachsen-Anhalt</td>\n",
       "      <td>SK Magdeburg</td>\n",
       "      <td>A35-A59</td>\n",
       "      <td>W</td>\n",
       "      <td>1</td>\n",
       "      <td>0</td>\n",
       "      <td>154937</td>\n",
       "      <td>2020-03-12T00:00:00.000Z</td>\n",
       "      <td>15003</td>\n",
       "    </tr>\n",
       "    <tr>\n",
       "      <th>2</th>\n",
       "      <td>15</td>\n",
       "      <td>Sachsen-Anhalt</td>\n",
       "      <td>SK Magdeburg</td>\n",
       "      <td>A35-A59</td>\n",
       "      <td>W</td>\n",
       "      <td>1</td>\n",
       "      <td>0</td>\n",
       "      <td>154938</td>\n",
       "      <td>2020-03-17T00:00:00.000Z</td>\n",
       "      <td>15003</td>\n",
       "    </tr>\n",
       "    <tr>\n",
       "      <th>3</th>\n",
       "      <td>15</td>\n",
       "      <td>Sachsen-Anhalt</td>\n",
       "      <td>SK Magdeburg</td>\n",
       "      <td>A60-A79</td>\n",
       "      <td>M</td>\n",
       "      <td>1</td>\n",
       "      <td>0</td>\n",
       "      <td>154939</td>\n",
       "      <td>2020-03-10T00:00:00.000Z</td>\n",
       "      <td>15003</td>\n",
       "    </tr>\n",
       "    <tr>\n",
       "      <th>4</th>\n",
       "      <td>15</td>\n",
       "      <td>Sachsen-Anhalt</td>\n",
       "      <td>SK Magdeburg</td>\n",
       "      <td>A60-A79</td>\n",
       "      <td>M</td>\n",
       "      <td>1</td>\n",
       "      <td>0</td>\n",
       "      <td>154940</td>\n",
       "      <td>2020-03-19T00:00:00.000Z</td>\n",
       "      <td>15003</td>\n",
       "    </tr>\n",
       "  </tbody>\n",
       "</table>\n",
       "</div>"
      ],
      "text/plain": [
       "   IdBundesland      Bundesland     Landkreis Altersgruppe Geschlecht  \\\n",
       "0            15  Sachsen-Anhalt  SK Magdeburg      A35-A59          M   \n",
       "1            15  Sachsen-Anhalt  SK Magdeburg      A35-A59          W   \n",
       "2            15  Sachsen-Anhalt  SK Magdeburg      A35-A59          W   \n",
       "3            15  Sachsen-Anhalt  SK Magdeburg      A60-A79          M   \n",
       "4            15  Sachsen-Anhalt  SK Magdeburg      A60-A79          M   \n",
       "\n",
       "   AnzahlFall  AnzahlTodesfall  ObjectId                Meldedatum IdLandkreis  \n",
       "0           2                0    154936  2020-03-18T00:00:00.000Z       15003  \n",
       "1           1                0    154937  2020-03-12T00:00:00.000Z       15003  \n",
       "2           1                0    154938  2020-03-17T00:00:00.000Z       15003  \n",
       "3           1                0    154939  2020-03-10T00:00:00.000Z       15003  \n",
       "4           1                0    154940  2020-03-19T00:00:00.000Z       15003  "
      ]
     },
     "execution_count": 77,
     "metadata": {},
     "output_type": "execute_result"
    }
   ],
   "source": [
    "df = pd.read_csv('data/RKI_COVID19.csv')\n",
    "df.head()"
   ]
  },
  {
   "cell_type": "code",
   "execution_count": 78,
   "metadata": {
    "scrolled": false
   },
   "outputs": [],
   "source": [
    "df = df[df['IdLandkreis']!='0-1']"
   ]
  },
  {
   "cell_type": "code",
   "execution_count": 102,
   "metadata": {},
   "outputs": [
    {
     "data": {
      "text/plain": [
       "(8230, 10)"
      ]
     },
     "execution_count": 102,
     "metadata": {},
     "output_type": "execute_result"
    }
   ],
   "source": [
    "df.shape"
   ]
  },
  {
   "cell_type": "markdown",
   "metadata": {},
   "source": [
    "### Load and merge data from other RKI_Corona_Landkreise.csv"
   ]
  },
  {
   "cell_type": "code",
   "execution_count": 79,
   "metadata": {},
   "outputs": [],
   "source": [
    "nuts = pd.read_csv('data/RKI_Corona_Landkreise.csv')\n",
    "nuts = nuts.filter(['county', 'NUTS'])"
   ]
  },
  {
   "cell_type": "code",
   "execution_count": 90,
   "metadata": {},
   "outputs": [
    {
     "data": {
      "text/html": [
       "<div>\n",
       "<style scoped>\n",
       "    .dataframe tbody tr th:only-of-type {\n",
       "        vertical-align: middle;\n",
       "    }\n",
       "\n",
       "    .dataframe tbody tr th {\n",
       "        vertical-align: top;\n",
       "    }\n",
       "\n",
       "    .dataframe thead th {\n",
       "        text-align: right;\n",
       "    }\n",
       "</style>\n",
       "<table border=\"1\" class=\"dataframe\">\n",
       "  <thead>\n",
       "    <tr style=\"text-align: right;\">\n",
       "      <th></th>\n",
       "      <th>IdBundesland</th>\n",
       "      <th>Bundesland</th>\n",
       "      <th>Landkreis</th>\n",
       "      <th>Altersgruppe</th>\n",
       "      <th>Geschlecht</th>\n",
       "      <th>AnzahlFall</th>\n",
       "      <th>AnzahlTodesfall</th>\n",
       "      <th>ObjectId</th>\n",
       "      <th>Meldedatum</th>\n",
       "      <th>IdLandkreis</th>\n",
       "      <th>NUTS</th>\n",
       "    </tr>\n",
       "  </thead>\n",
       "  <tbody>\n",
       "    <tr>\n",
       "      <th>0</th>\n",
       "      <td>15</td>\n",
       "      <td>Sachsen-Anhalt</td>\n",
       "      <td>SK Magdeburg</td>\n",
       "      <td>A35-A59</td>\n",
       "      <td>M</td>\n",
       "      <td>2</td>\n",
       "      <td>0</td>\n",
       "      <td>154936</td>\n",
       "      <td>2020-03-18T00:00:00.000Z</td>\n",
       "      <td>15003</td>\n",
       "      <td>DEE03</td>\n",
       "    </tr>\n",
       "    <tr>\n",
       "      <th>1</th>\n",
       "      <td>15</td>\n",
       "      <td>Sachsen-Anhalt</td>\n",
       "      <td>SK Magdeburg</td>\n",
       "      <td>A35-A59</td>\n",
       "      <td>W</td>\n",
       "      <td>1</td>\n",
       "      <td>0</td>\n",
       "      <td>154937</td>\n",
       "      <td>2020-03-12T00:00:00.000Z</td>\n",
       "      <td>15003</td>\n",
       "      <td>DEE03</td>\n",
       "    </tr>\n",
       "    <tr>\n",
       "      <th>2</th>\n",
       "      <td>15</td>\n",
       "      <td>Sachsen-Anhalt</td>\n",
       "      <td>SK Magdeburg</td>\n",
       "      <td>A35-A59</td>\n",
       "      <td>W</td>\n",
       "      <td>1</td>\n",
       "      <td>0</td>\n",
       "      <td>154938</td>\n",
       "      <td>2020-03-17T00:00:00.000Z</td>\n",
       "      <td>15003</td>\n",
       "      <td>DEE03</td>\n",
       "    </tr>\n",
       "    <tr>\n",
       "      <th>3</th>\n",
       "      <td>15</td>\n",
       "      <td>Sachsen-Anhalt</td>\n",
       "      <td>SK Magdeburg</td>\n",
       "      <td>A60-A79</td>\n",
       "      <td>M</td>\n",
       "      <td>1</td>\n",
       "      <td>0</td>\n",
       "      <td>154939</td>\n",
       "      <td>2020-03-10T00:00:00.000Z</td>\n",
       "      <td>15003</td>\n",
       "      <td>DEE03</td>\n",
       "    </tr>\n",
       "    <tr>\n",
       "      <th>4</th>\n",
       "      <td>15</td>\n",
       "      <td>Sachsen-Anhalt</td>\n",
       "      <td>SK Magdeburg</td>\n",
       "      <td>A60-A79</td>\n",
       "      <td>M</td>\n",
       "      <td>1</td>\n",
       "      <td>0</td>\n",
       "      <td>154940</td>\n",
       "      <td>2020-03-19T00:00:00.000Z</td>\n",
       "      <td>15003</td>\n",
       "      <td>DEE03</td>\n",
       "    </tr>\n",
       "  </tbody>\n",
       "</table>\n",
       "</div>"
      ],
      "text/plain": [
       "   IdBundesland      Bundesland     Landkreis Altersgruppe Geschlecht  \\\n",
       "0            15  Sachsen-Anhalt  SK Magdeburg      A35-A59          M   \n",
       "1            15  Sachsen-Anhalt  SK Magdeburg      A35-A59          W   \n",
       "2            15  Sachsen-Anhalt  SK Magdeburg      A35-A59          W   \n",
       "3            15  Sachsen-Anhalt  SK Magdeburg      A60-A79          M   \n",
       "4            15  Sachsen-Anhalt  SK Magdeburg      A60-A79          M   \n",
       "\n",
       "   AnzahlFall  AnzahlTodesfall  ObjectId                Meldedatum  \\\n",
       "0           2                0    154936  2020-03-18T00:00:00.000Z   \n",
       "1           1                0    154937  2020-03-12T00:00:00.000Z   \n",
       "2           1                0    154938  2020-03-17T00:00:00.000Z   \n",
       "3           1                0    154939  2020-03-10T00:00:00.000Z   \n",
       "4           1                0    154940  2020-03-19T00:00:00.000Z   \n",
       "\n",
       "  IdLandkreis   NUTS  \n",
       "0       15003  DEE03  \n",
       "1       15003  DEE03  \n",
       "2       15003  DEE03  \n",
       "3       15003  DEE03  \n",
       "4       15003  DEE03  "
      ]
     },
     "execution_count": 90,
     "metadata": {},
     "output_type": "execute_result"
    }
   ],
   "source": [
    "df_time = pd.merge(left=df, right=nuts, how='left', left_on='Landkreis', right_on='county').drop(columns=['county'])\n",
    "df.head()"
   ]
  },
  {
   "cell_type": "markdown",
   "metadata": {},
   "source": [
    "### Load and merge data about population numbers, sex and density"
   ]
  },
  {
   "cell_type": "code",
   "execution_count": 91,
   "metadata": {},
   "outputs": [
    {
     "data": {
      "text/html": [
       "<div>\n",
       "<style scoped>\n",
       "    .dataframe tbody tr th:only-of-type {\n",
       "        vertical-align: middle;\n",
       "    }\n",
       "\n",
       "    .dataframe tbody tr th {\n",
       "        vertical-align: top;\n",
       "    }\n",
       "\n",
       "    .dataframe thead th {\n",
       "        text-align: right;\n",
       "    }\n",
       "</style>\n",
       "<table border=\"1\" class=\"dataframe\">\n",
       "  <thead>\n",
       "    <tr style=\"text-align: right;\">\n",
       "      <th></th>\n",
       "      <th>NUTS3</th>\n",
       "      <th>Flaeche</th>\n",
       "      <th>Bevoelkerung</th>\n",
       "      <th>maennlich</th>\n",
       "      <th>weiblich</th>\n",
       "      <th>Dichte</th>\n",
       "    </tr>\n",
       "  </thead>\n",
       "  <tbody>\n",
       "    <tr>\n",
       "      <th>0</th>\n",
       "      <td>DEF01</td>\n",
       "      <td>56,73</td>\n",
       "      <td>89 504</td>\n",
       "      <td>44 599</td>\n",
       "      <td>44 905</td>\n",
       "      <td>1 578</td>\n",
       "    </tr>\n",
       "    <tr>\n",
       "      <th>1</th>\n",
       "      <td>DEF02</td>\n",
       "      <td>118,65</td>\n",
       "      <td>247 548</td>\n",
       "      <td>120 566</td>\n",
       "      <td>126 982</td>\n",
       "      <td>2 086</td>\n",
       "    </tr>\n",
       "    <tr>\n",
       "      <th>2</th>\n",
       "      <td>DEF03</td>\n",
       "      <td>214,19</td>\n",
       "      <td>217 198</td>\n",
       "      <td>104 371</td>\n",
       "      <td>112 827</td>\n",
       "      <td>1 014</td>\n",
       "    </tr>\n",
       "    <tr>\n",
       "      <th>3</th>\n",
       "      <td>DEF04</td>\n",
       "      <td>71,66</td>\n",
       "      <td>79 487</td>\n",
       "      <td>39 241</td>\n",
       "      <td>40 246</td>\n",
       "      <td>1 109</td>\n",
       "    </tr>\n",
       "    <tr>\n",
       "      <th>4</th>\n",
       "      <td>DEF05</td>\n",
       "      <td>1 428,17</td>\n",
       "      <td>133 210</td>\n",
       "      <td>65 720</td>\n",
       "      <td>67 490</td>\n",
       "      <td>93</td>\n",
       "    </tr>\n",
       "  </tbody>\n",
       "</table>\n",
       "</div>"
      ],
      "text/plain": [
       "   NUTS3      Flaeche Bevoelkerung   maennlich    weiblich    Dichte\n",
       "0  DEF01        56,73       89 504      44 599      44 905     1 578\n",
       "1  DEF02       118,65      247 548     120 566     126 982     2 086\n",
       "2  DEF03       214,19      217 198     104 371     112 827     1 014\n",
       "3  DEF04        71,66       79 487      39 241      40 246     1 109\n",
       "4  DEF05     1 428,17      133 210      65 720      67 490        93"
      ]
     },
     "execution_count": 91,
     "metadata": {},
     "output_type": "execute_result"
    }
   ],
   "source": [
    "BV = pd.read_csv('data/Landkreise1.csv', encoding = \"utf-8\", sep=';').drop(columns=['LandkreisId'])\n",
    "BV.head()"
   ]
  },
  {
   "cell_type": "code",
   "execution_count": 107,
   "metadata": {},
   "outputs": [
    {
     "data": {
      "text/plain": [
       "(245,)"
      ]
     },
     "execution_count": 107,
     "metadata": {},
     "output_type": "execute_result"
    }
   ],
   "source": [
    "BV['NUTS3'].unique().shape"
   ]
  },
  {
   "cell_type": "code",
   "execution_count": 106,
   "metadata": {},
   "outputs": [
    {
     "data": {
      "text/plain": [
       "(394,)"
      ]
     },
     "execution_count": 106,
     "metadata": {},
     "output_type": "execute_result"
    }
   ],
   "source": [
    "df['NUTS'].unique().shape"
   ]
  },
  {
   "cell_type": "code",
   "execution_count": 101,
   "metadata": {},
   "outputs": [
    {
     "data": {
      "text/html": [
       "<div>\n",
       "<style scoped>\n",
       "    .dataframe tbody tr th:only-of-type {\n",
       "        vertical-align: middle;\n",
       "    }\n",
       "\n",
       "    .dataframe tbody tr th {\n",
       "        vertical-align: top;\n",
       "    }\n",
       "\n",
       "    .dataframe thead th {\n",
       "        text-align: right;\n",
       "    }\n",
       "</style>\n",
       "<table border=\"1\" class=\"dataframe\">\n",
       "  <thead>\n",
       "    <tr style=\"text-align: right;\">\n",
       "      <th></th>\n",
       "      <th>NUTS3</th>\n",
       "      <th>Flaeche</th>\n",
       "      <th>Bevoelkerung</th>\n",
       "      <th>maennlich</th>\n",
       "      <th>weiblich</th>\n",
       "      <th>Dichte</th>\n",
       "      <th>IdBundesland</th>\n",
       "      <th>Bundesland</th>\n",
       "      <th>Landkreis</th>\n",
       "      <th>Altersgruppe</th>\n",
       "      <th>Geschlecht</th>\n",
       "      <th>AnzahlFall</th>\n",
       "      <th>AnzahlTodesfall</th>\n",
       "      <th>ObjectId</th>\n",
       "      <th>Meldedatum</th>\n",
       "      <th>IdLandkreis</th>\n",
       "    </tr>\n",
       "  </thead>\n",
       "  <tbody>\n",
       "    <tr>\n",
       "      <th>0</th>\n",
       "      <td>DEF01</td>\n",
       "      <td>56,73</td>\n",
       "      <td>89 504</td>\n",
       "      <td>44 599</td>\n",
       "      <td>44 905</td>\n",
       "      <td>1 578</td>\n",
       "      <td>1.0</td>\n",
       "      <td>Schleswig-Holstein</td>\n",
       "      <td>SK Flensburg</td>\n",
       "      <td>A15-A34</td>\n",
       "      <td>M</td>\n",
       "      <td>1.0</td>\n",
       "      <td>0.0</td>\n",
       "      <td>146938.0</td>\n",
       "      <td>2020-03-14T00:00:00.000Z</td>\n",
       "      <td>01001</td>\n",
       "    </tr>\n",
       "    <tr>\n",
       "      <th>1</th>\n",
       "      <td>DEF01</td>\n",
       "      <td>56,73</td>\n",
       "      <td>89 504</td>\n",
       "      <td>44 599</td>\n",
       "      <td>44 905</td>\n",
       "      <td>1 578</td>\n",
       "      <td>1.0</td>\n",
       "      <td>Schleswig-Holstein</td>\n",
       "      <td>SK Flensburg</td>\n",
       "      <td>A15-A34</td>\n",
       "      <td>M</td>\n",
       "      <td>2.0</td>\n",
       "      <td>0.0</td>\n",
       "      <td>146939.0</td>\n",
       "      <td>2020-03-19T00:00:00.000Z</td>\n",
       "      <td>01001</td>\n",
       "    </tr>\n",
       "    <tr>\n",
       "      <th>2</th>\n",
       "      <td>DEF01</td>\n",
       "      <td>56,73</td>\n",
       "      <td>89 504</td>\n",
       "      <td>44 599</td>\n",
       "      <td>44 905</td>\n",
       "      <td>1 578</td>\n",
       "      <td>1.0</td>\n",
       "      <td>Schleswig-Holstein</td>\n",
       "      <td>SK Flensburg</td>\n",
       "      <td>A15-A34</td>\n",
       "      <td>W</td>\n",
       "      <td>1.0</td>\n",
       "      <td>0.0</td>\n",
       "      <td>146940.0</td>\n",
       "      <td>2020-03-14T00:00:00.000Z</td>\n",
       "      <td>01001</td>\n",
       "    </tr>\n",
       "    <tr>\n",
       "      <th>3</th>\n",
       "      <td>DEF01</td>\n",
       "      <td>56,73</td>\n",
       "      <td>89 504</td>\n",
       "      <td>44 599</td>\n",
       "      <td>44 905</td>\n",
       "      <td>1 578</td>\n",
       "      <td>1.0</td>\n",
       "      <td>Schleswig-Holstein</td>\n",
       "      <td>SK Flensburg</td>\n",
       "      <td>A15-A34</td>\n",
       "      <td>W</td>\n",
       "      <td>2.0</td>\n",
       "      <td>0.0</td>\n",
       "      <td>146941.0</td>\n",
       "      <td>2020-03-18T00:00:00.000Z</td>\n",
       "      <td>01001</td>\n",
       "    </tr>\n",
       "    <tr>\n",
       "      <th>4</th>\n",
       "      <td>DEF01</td>\n",
       "      <td>56,73</td>\n",
       "      <td>89 504</td>\n",
       "      <td>44 599</td>\n",
       "      <td>44 905</td>\n",
       "      <td>1 578</td>\n",
       "      <td>1.0</td>\n",
       "      <td>Schleswig-Holstein</td>\n",
       "      <td>SK Flensburg</td>\n",
       "      <td>A35-A59</td>\n",
       "      <td>M</td>\n",
       "      <td>1.0</td>\n",
       "      <td>0.0</td>\n",
       "      <td>146942.0</td>\n",
       "      <td>2020-03-14T00:00:00.000Z</td>\n",
       "      <td>01001</td>\n",
       "    </tr>\n",
       "  </tbody>\n",
       "</table>\n",
       "</div>"
      ],
      "text/plain": [
       "   NUTS3    Flaeche Bevoelkerung  maennlich   weiblich    Dichte  \\\n",
       "0  DEF01      56,73       89 504     44 599     44 905     1 578   \n",
       "1  DEF01      56,73       89 504     44 599     44 905     1 578   \n",
       "2  DEF01      56,73       89 504     44 599     44 905     1 578   \n",
       "3  DEF01      56,73       89 504     44 599     44 905     1 578   \n",
       "4  DEF01      56,73       89 504     44 599     44 905     1 578   \n",
       "\n",
       "   IdBundesland          Bundesland     Landkreis Altersgruppe Geschlecht  \\\n",
       "0           1.0  Schleswig-Holstein  SK Flensburg      A15-A34          M   \n",
       "1           1.0  Schleswig-Holstein  SK Flensburg      A15-A34          M   \n",
       "2           1.0  Schleswig-Holstein  SK Flensburg      A15-A34          W   \n",
       "3           1.0  Schleswig-Holstein  SK Flensburg      A15-A34          W   \n",
       "4           1.0  Schleswig-Holstein  SK Flensburg      A35-A59          M   \n",
       "\n",
       "   AnzahlFall  AnzahlTodesfall  ObjectId                Meldedatum IdLandkreis  \n",
       "0         1.0              0.0  146938.0  2020-03-14T00:00:00.000Z       01001  \n",
       "1         2.0              0.0  146939.0  2020-03-19T00:00:00.000Z       01001  \n",
       "2         1.0              0.0  146940.0  2020-03-14T00:00:00.000Z       01001  \n",
       "3         2.0              0.0  146941.0  2020-03-18T00:00:00.000Z       01001  \n",
       "4         1.0              0.0  146942.0  2020-03-14T00:00:00.000Z       01001  "
      ]
     },
     "execution_count": 101,
     "metadata": {},
     "output_type": "execute_result"
    }
   ],
   "source": [
    "df = pd.merge(left=merged_left, right=BV, how='left', left_on='NUTS', right_on='NUTS3').drop(columns=['NUTS'])\n",
    "df.head()"
   ]
  },
  {
   "cell_type": "code",
   "execution_count": null,
   "metadata": {},
   "outputs": [],
   "source": []
  },
  {
   "cell_type": "code",
   "execution_count": null,
   "metadata": {},
   "outputs": [],
   "source": []
  },
  {
   "cell_type": "code",
   "execution_count": null,
   "metadata": {},
   "outputs": [],
   "source": []
  }
 ],
 "metadata": {
  "kernelspec": {
   "display_name": "Python 3",
   "language": "python",
   "name": "python3"
  },
  "pycharm": {
   "stem_cell": {
    "cell_type": "raw",
    "metadata": {
     "collapsed": false
    },
    "source": []
   }
  }
 },
 "nbformat": 4,
 "nbformat_minor": 1
}
