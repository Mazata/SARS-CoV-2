{
 "cells": [
  {
   "cell_type": "markdown",
   "metadata": {},
   "source": [
    "## Corona Cases Forecasting for Germany on a County Level\n",
    "### Visualize data based on county:"
   ]
  },
  {
   "cell_type": "code",
   "execution_count": null,
   "metadata": {},
   "outputs": [],
   "source": [
    "import pandas as pd \n",
    "import geopandas as gpd\n",
    "import descartes # to plot\n",
    "import numpy as np\n",
    "import matplotlib.pyplot as plt\n",
    "plt.style.use('seaborn')\n",
    "%matplotlib inline\n",
    "\n",
    "# autoreload packages\n",
    "%load_ext autoreload\n",
    "%autoreload 2\n",
    "import utils.plotting as plotting\n",
    "import utils.preprocessing as prep"
   ]
  },
  {
   "cell_type": "markdown",
   "metadata": {},
   "source": [
    "#### Get Corona data:\n",
    "RKI_Corona_Landkreise.csv:\n",
    "\n",
    "GEN                   | NUTS  | cases | deaths | county\n",
    "--------------------- | ----- | ----- | ------ | ----------\n",
    "Flensburg             | DEF06 | 21    | 0      |  SK Flensburg <br>\n",
    "Herzogtum Lauenburg   | DEF07 | 15    | 0      |  LK Herzogtum Lauenburg\n",
    "\n",
    "\n",
    "df_time: \n",
    "\n",
    "Landkreis                 | AnzahlFall | AnzahlTodesfall | Meldedatum               | IdLandkreis | NUTS3  | Bevoelkerung\n",
    "------------------------- | ---------- | --------------- | ------------------------ | ----------- | ------ | ------------\n",
    "SK Magdeburg              | 2          | 0               | 2020-03-18T00:00:00.000Z | 15003       | NaN    | NaN\n",
    "SK Magdeburg              | 1          | 0               | 2020-03-12T00:00:00.000Z | 15003       | NaN    | NaN\n",
    "LK Altmarkkreis Salzwedel | 1          | 0               | 2020-03-12T00:00:00.000Z | 15081       | NaN    | NaN"
   ]
  },
  {
   "cell_type": "code",
   "execution_count": null,
   "metadata": {},
   "outputs": [],
   "source": [
    "#data = pd.read_csv(\"data/RKI_Corona_Landkreise.csv\") \n",
    "df_time = pd.read_csv(\"data/df_time.csv\") \n",
    "#df_time.head(2)\n",
    "#data.describe()"
   ]
  },
  {
   "cell_type": "markdown",
   "metadata": {},
   "source": [
    "##### Get additional information about the Counties:\n",
    "e.g. population density, public transport information, gender distribution, age distribution"
   ]
  },
  {
   "cell_type": "code",
   "execution_count": null,
   "metadata": {},
   "outputs": [],
   "source": []
  },
  {
   "cell_type": "markdown",
   "metadata": {},
   "source": [
    "### Load county shape information\n",
    "\n",
    "https://public.opendatasoft.com/explore/dataset/landkreise-in-germany/export/\n",
    "\n",
    "most important: cca_2 (= county identifier) and geometry:\n",
    "\n",
    "name_2                   | cca_2  | geometry\n",
    "------------------------ | ------ | -------------------------------------------------\n",
    "Freiburg im Breisgau     | 08311  | POLYGON ((7.790447235107478 47.96881103515624,...\n",
    "Dillingen an der Donau   | 09773  | POLYGON ((10.6144847869873 48.75083541870145, ...\n"
   ]
  },
  {
   "cell_type": "code",
   "execution_count": null,
   "metadata": {},
   "outputs": [],
   "source": [
    "county_df = gpd.read_file('data/landkreise-in-germany.shp', encoding='utf-8', dtype={'cca_2': str})\n",
    "# convert cca_2 to float for merge later\n",
    "county_df = county_df.astype({'cca_2': 'float64'})\n",
    "#county_df.head(2)"
   ]
  },
  {
   "cell_type": "markdown",
   "metadata": {},
   "source": [
    "### Aggregate Information for different dates"
   ]
  },
  {
   "cell_type": "code",
   "execution_count": null,
   "metadata": {},
   "outputs": [],
   "source": [
    "# aggregate number of cases by until any date\n",
    "df_time  = df_time.astype({'IdLandkreis': 'float64'})\n",
    "df_agg = df_time.sort_values(['IdLandkreis','Meldedatum'],ascending=False)\\\n",
    "    .groupby(['IdLandkreis','Meldedatum'])\\\n",
    "    .agg({'AnzahlFall':sum})\\\n",
    "    .groupby('IdLandkreis').cumsum().reset_index()"
   ]
  },
  {
   "cell_type": "markdown",
   "metadata": {},
   "source": [
    "### Merge Geometric and Corona Information and plot:"
   ]
  },
  {
   "cell_type": "markdown",
   "metadata": {},
   "source": [
    "#### Plot for individual date:"
   ]
  },
  {
   "cell_type": "code",
   "execution_count": null,
   "metadata": {},
   "outputs": [],
   "source": [
    "#Plot for individual date:\n",
    "date = \"2020-03-20T00:00:00.000Z\"\n",
    "df_date = prep.cases_at_date(df_agg, date)\n",
    "df = pd.merge(left=county_df , right= df_date, how='left', left_on='cca_2', right_on='IdLandkreis')\n",
    "df['AnzahlFall'][df['AnzahlFall'].isna()] = 0 # set na values to zero\n",
    "#df.head(3)"
   ]
  },
  {
   "cell_type": "code",
   "execution_count": null,
   "metadata": {},
   "outputs": [],
   "source": [
    "plotting.plot_map(df, \"AnzahlFall\")"
   ]
  },
  {
   "cell_type": "markdown",
   "metadata": {},
   "source": [
    "#### Plot for all dates:"
   ]
  },
  {
   "cell_type": "code",
   "execution_count": null,
   "metadata": {},
   "outputs": [],
   "source": [
    "date_1   = df_time['Meldedatum'].min()\n",
    "date_cur = df_time['Meldedatum'].max()"
   ]
  },
  {
   "cell_type": "code",
   "execution_count": null,
   "metadata": {},
   "outputs": [],
   "source": [
    "# plot for all dates:\n",
    "import time\n",
    "dates = df_time['Meldedatum'].sort_values().astype({'Meldedatum': 'str'}).unique()\n",
    "\n",
    "plt.rcParams['figure.figsize'] = [16, 11]\n",
    "for date in dates:\n",
    "    df_date = prep.cases_at_date(df_agg,date)\n",
    "    df = pd.merge(left=county_df , right= df_date, how='left', left_on='cca_2', right_on='IdLandkreis')\n",
    "    df['AnzahlFall'][df['AnzahlFall'].isna()] = 0 # set na values to zero\n",
    "    plotting.plot_map(df, \"AnzahlFall\")\n",
    "    time.sleep(2)"
   ]
  },
  {
   "cell_type": "code",
   "execution_count": null,
   "metadata": {},
   "outputs": [],
   "source": []
  }
 ],
 "metadata": {
  "kernelspec": {
   "display_name": "Python 3",
   "language": "python",
   "name": "python3"
  },
  "language_info": {
   "codemirror_mode": {
    "name": "ipython",
    "version": 3
   },
   "file_extension": ".py",
   "mimetype": "text/x-python",
   "name": "python",
   "nbconvert_exporter": "python",
   "pygments_lexer": "ipython3",
   "version": "3.7.3"
  }
 },
 "nbformat": 4,
 "nbformat_minor": 2
}
