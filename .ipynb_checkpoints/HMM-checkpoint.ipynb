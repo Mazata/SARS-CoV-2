{
 "cells": [
  {
   "cell_type": "markdown",
   "metadata": {},
   "source": [
    "### Stan\n",
    "Using the statistical modelling software stan (here Pystan) to use the PMCMC algorithm to solve the SARS-CoV-2 model. "
   ]
  },
  {
   "cell_type": "code",
   "execution_count": 40,
   "metadata": {},
   "outputs": [
    {
     "name": "stdout",
     "output_type": "stream",
     "text": [
      "The autoreload extension is already loaded. To reload it, use:\n",
      "  %reload_ext autoreload\n"
     ]
    }
   ],
   "source": [
    "import pystan\n",
    "import matplotlib.pyplot as plt\n",
    "import seaborn as sns\n",
    "import pandas as pd\n",
    "import numpy as np\n",
    "\n",
    "%load_ext autoreload\n",
    "%autoreload 2\n",
    "\n",
    "import sys\n",
    "sys.path.append('utils')\n",
    "from utils.model import *\n",
    "\n",
    "sns.set()  # Nice plot aesthetic\n",
    "np.random.seed(101)"
   ]
  },
  {
   "cell_type": "code",
   "execution_count": null,
   "metadata": {},
   "outputs": [],
   "source": [
    "# model needs to be written in stan\n",
    "model = \"\"\"\n",
    "data {\n",
    "\n",
    "  int<lower=0> N;  // num people\n",
    "  int<lower=0> T;  // num instances\n",
    "  int<lower=0> Z_0 // initial number of cases\n",
    "  int<lower=0, upper=N> X[T];// observations\n",
    "  \n",
    "  \n",
    "  int<lower=0> K;   // dimension of Hidden state\n",
    "  \n",
    "  // unsupervised:\n",
    "  //int<lower=0, upper=N> Z[T];\n",
    "}\n",
    "parameters {\n",
    "  real<lower=0, upper = 1> p_inf;\n",
    "  real<lower=0, upper = 1> p_obs;\n",
    "}\n",
    "\n",
    "transformed parameters {\n",
    "  vector[K] logalpha[T];\n",
    "  \n",
    "  { // Forward algorithm log p(z_t = j | y_{1:t})\n",
    "    real accumulator[K];\n",
    "    logalpha[1] = log(pi1) + normal_lpdf(y[1] | mu, sigma);\n",
    "    \n",
    "    for (t in 2:T) {\n",
    "      for (j in 1:K) { // j = current (t)\n",
    "        for (i in 1:K) { // i = previous (t-1)\n",
    "          // Murphy (2012) p. 609 eq. 17.48\n",
    "          // belief state + transition prob + local evidence at t\n",
    "          accumulator[i] = logalpha[t-1, i] + log(A[i, j]) + normal_lpdf(y[t] | mu[j], sigma[j]);\n",
    "        }\n",
    "        logalpha[t, j] = log_sum_exp(accumulator);\n",
    "      }\n",
    "    }\n",
    "  } // Forward\n",
    "}\n",
    "model {\n",
    "  // priors\n",
    "\n",
    "\n",
    "  // forward algorithm\n",
    "  {\n",
    "  real acc[K];\n",
    "  real gamma[N, K];                                  //log marginal probability of the inputs\n",
    "  for (k in 1:K)\n",
    "    gamma[1, k] = Z_0;\n",
    "  for (t in 2:N) {\n",
    "    for (k in 1:K) {\n",
    "      for (j in 1:K)\n",
    "        acc[j] = gamma[t-1, j] + log(theta[j, k]) + normal_lpdf(y[t] | mu[k], 1);\n",
    "      gamma[t, k] = log_sum_exp(acc);\n",
    "    }\n",
    "  }\n",
    "  target += log_sum_exp(gamma[N]);\n",
    "  }\n",
    "\n",
    "\n",
    "  for (t in 2:T)\n",
    "    Z[t] ~ binomial(N-Z[t-1], p_inf); //+  Z[t - 1]\n",
    "  for (t in 1:T)\n",
    "    X[t] ~ neg_binomial(Z[t], p_obs);    // p_obs = probability of observation\n",
    "}\n",
    "\"\"\""
   ]
  },
  {
   "cell_type": "code",
   "execution_count": 68,
   "metadata": {},
   "outputs": [],
   "source": [
    "model = \"\"\"functions {\n",
    "  real[] SEIR(\n",
    "      real t,             // time\n",
    "      real[] Z,           // system state {susceptible, exposed, infected, recovered}\n",
    "      real[] theta,       // parameters (t_inc, t_inf, r_t, mu, t_rec, rho = 1, kappa_0, kappa)\n",
    "      real[] X_r,         // --------probably not needed\n",
    "      int[] X_i) {        // --------probably not needed\n",
    "  \n",
    "          real dZ_dt[3];\n",
    "          \n",
    "          real t_inc   = theta[1];\n",
    "          real t_inf   = theta[2];\n",
    "          real r_t     = theta[3];\n",
    "          real rho     = theta[4];\n",
    "          real kappa_0 = theta[5];\n",
    "          real kappa   = theta[6];\n",
    "  \n",
    "          dZ_dt[1] = - rho * (r_t/t_inf) * Z[1] * Z[2]  - kappa_0 * Z[1] ;     \n",
    "          dZ_dt[2] = (rho * (r_t/t_inf) * Z[1] * Z[2])    -     ((1/t_inc) * Z[2]) - kappa_0 * Z[3] - kappa * Z[3]  ;    \n",
    "          dZ_dt[3] = ((1/t_inc) * Z[2]) -   (1/t_inf) * Z[3];\n",
    "          dZ_dt[4] = (1/t_inf) * Z[3];\n",
    "          \n",
    "          return dZ_dt;\n",
    "      }\n",
    "  }\n",
    "  \n",
    "  data {\n",
    "     int<lower = 1> n_obs;       // number of days observed\n",
    "     int<lower = 1> n_theta;     // number of model parameters (=8)\n",
    "     int<lower = 1> n_difeq;     // number of differential equations (=4)\n",
    "     real<lower = 1> n_pop;       // population \n",
    "     int X[n_obs];           // data, total number of infected individuals each day\n",
    "     real t0;                // initial time point (zero)\n",
    "     real ts[n_obs];         // time points that were observed\n",
    "     \n",
    "     // known parameters:\n",
    "     real kappa_0;\n",
    "     real kappa;\n",
    "  }\n",
    "  \n",
    "  transformed data {\n",
    "    real X_r[0];\n",
    "    int X_i[0];\n",
    "  }\n",
    "  \n",
    "  parameters {\n",
    "    // theta:\n",
    "    real<lower=0> t_inc;\n",
    "    real<lower=0> t_inf;\n",
    "    real<lower=0> r_t;\n",
    "    real<lower=0, upper=1> rho;\n",
    "    \n",
    "    real<lower = 0, upper = 1> S0;  // initial fraction of susceptible individuals\n",
    "    \n",
    "    real<lower = 0, upper = 1> p_obs;\n",
    "    //real<lower = 0, upper = 1> p_inf;\n",
    "  }\n",
    "  \n",
    "  transformed parameters{\n",
    "    real Z_hat[n_obs, n_difeq];       // solution from the ODE solver\n",
    "    //int Z_i[n_obs, n_difeq];          // integer values\n",
    "    real Z_init[n_difeq];             // initial conditions for both fractions of S and I\n",
    "    \n",
    "    real theta[n_theta];\n",
    "    theta[1] = t_inc;\n",
    "    theta[2] = t_inf;\n",
    "    theta[3] = r_t;\n",
    "    theta[4] = rho;\n",
    "    theta[5] = kappa_0;\n",
    "    theta[6] = kappa;\n",
    "\n",
    "  \n",
    "    Z_init[1] = S0;\n",
    "    Z_init[2] = 1 - S0;\n",
    "    Z_init[3] = 0;\n",
    "    Z_init[4] = 0;\n",
    "  \n",
    "    Z_hat = integrate_ode_rk45(SEIR, Z_init, t0, ts, theta, X_r, X_i);\n",
    "    //Z_i = round(Z_hat*n_pop);\n",
    "  }\n",
    "  \n",
    "  model {\n",
    "  \n",
    "    //priors\n",
    "    //theta[1] ~ lognormal(0,1);\n",
    "    //theta[2] ~ gamma(0.004,0.02);  //Assume mean infectious period = 5 days \n",
    "    S0 ~ beta(0.5, 0.5);\n",
    "  \n",
    "    \n",
    "    //likelihood\n",
    "    X ~ neg_binomial(to_vector(Z_hat[,2])*n_pop, p_obs);\n",
    "    \n",
    "  }\n",
    "  \n",
    "  //generated quantities {\n",
    "  //real R_0;      // Basic reproduction number\n",
    "  //R_0 = theta[1]/theta[2];\n",
    "  //}\n",
    "  \"\"\""
   ]
  },
  {
   "cell_type": "code",
   "execution_count": 69,
   "metadata": {},
   "outputs": [
    {
     "name": "stderr",
     "output_type": "stream",
     "text": [
      "INFO:pystan:COMPILING THE C++ CODE FOR MODEL anon_model_5199f1a75f06f34757697e3fbd1c8959 NOW.\n"
     ]
    }
   ],
   "source": [
    "# Compile the model\n",
    "sm = pystan.StanModel(model_code=model)"
   ]
  },
  {
   "cell_type": "code",
   "execution_count": 70,
   "metadata": {},
   "outputs": [
    {
     "name": "stdout",
     "output_type": "stream",
     "text": [
      "10000015.0\n"
     ]
    },
    {
     "data": {
      "image/png": "[encoded data removed]",
      "text/plain": [
       "<Figure size 1008x432 with 1 Axes>"
      ]
     },
     "metadata": {},
     "output_type": "display_data"
    }
   ],
   "source": [
    "n_obs = 500\n",
    "init_inf  = 1000\n",
    "t_inc     = 14\n",
    "t_inf     = 12\n",
    "r_t       = 2.0\n",
    "rho       = 1.0\n",
    "\n",
    "kappa_0   = 0.0\n",
    "kappa     = 0.0\n",
    "\n",
    "n_pop     = 2000\n",
    "\n",
    "seir = SEIRModel(n_obs, init_inf, t_inc, t_inf, r_t, rho, kappa_0, kappa)\n",
    "\n",
    "s, e, i, r = seir.run()\n",
    "\n",
    "# concatenate vectors into matrix:\n",
    "Z = np.vstack((s, e,i, r)) * n_pop\n",
    "\n",
    "seir.visualization(n_pop)"
   ]
  },
  {
   "cell_type": "markdown",
   "metadata": {},
   "source": [
    "### Generate Observations:"
   ]
  },
  {
   "cell_type": "code",
   "execution_count": 71,
   "metadata": {},
   "outputs": [],
   "source": [
    "def sample_X(n_obs , I , p_obs):\n",
    "    X = np.zeros(n_obs, dtype=int)\n",
    "    for t in range(0, n_obs):\n",
    "        X[t] =  I[t] + np.random.negative_binomial(I[t], p_obs, size=1) \n",
    "    return X;"
   ]
  },
  {
   "cell_type": "code",
   "execution_count": 72,
   "metadata": {},
   "outputs": [],
   "source": [
    "# unknown:\n",
    "init_inf  = 1000\n",
    "t_inc     = 14\n",
    "t_inf     = 12\n",
    "r_t       = 2.0\n",
    "rho       = 1.0\n",
    "p_obs     = 0.7\n",
    "\n",
    "# known:\n",
    "kappa_0   = 0.0\n",
    "kappa     = 0.0\n",
    "\n",
    "\n",
    "# Put our data in a dictionary\n",
    "n_obs     = 500\n",
    "n_theta   = 8\n",
    "n_difeq   = 4\n",
    "n_pop     = 1000\n",
    "ts = np.arange(n_obs);\n",
    "\n",
    "X         = sample_X(n_obs , Z[2,:] , p_obs)\n",
    "\n",
    "data = {'n_obs': n_obs, 'n_theta': n_theta, 'n_difeq': n_difeq, 'n_pop':n_pop, 'X': X, 't0': 0, 'ts': ts, 'kappa_0':kappa_0 ,'kappa':kappa}\n"
   ]
  },
  {
   "cell_type": "code",
   "execution_count": 73,
   "metadata": {},
   "outputs": [
    {
     "data": {
      "text/plain": [
       "[<matplotlib.lines.Line2D at 0x199ef688128>]"
      ]
     },
     "execution_count": 73,
     "metadata": {},
     "output_type": "execute_result"
    },
    {
     "data": {
      "image/png": "[encoded data removed]",
      "text/plain": [
       "<Figure size 432x288 with 1 Axes>"
      ]
     },
     "metadata": {},
     "output_type": "display_data"
    }
   ],
   "source": [
    "# check if sampling worked:\n",
    "plt.plot(Z[2,:], color =\"red\")\n",
    "plt.plot(X)"
   ]
  },
  {
   "cell_type": "code",
   "execution_count": 74,
   "metadata": {},
   "outputs": [
    {
     "ename": "RuntimeError",
     "evalue": "Initialization failed.",
     "output_type": "error",
     "traceback": [
      "\u001b[1;31m---------------------------------------------------------------------------\u001b[0m",
      "\u001b[1;31mRemoteTraceback\u001b[0m                           Traceback (most recent call last)",
      "\u001b[1;31mRemoteTraceback\u001b[0m: \n\"\"\"\nTraceback (most recent call last):\n  File \"C:\\Users\\henri\\Anaconda3\\lib\\multiprocessing\\pool.py\", line 121, in worker\n    result = (True, func(*args, **kwds))\n  File \"C:\\Users\\henri\\Anaconda3\\lib\\multiprocessing\\pool.py\", line 44, in mapstar\n    return list(map(*args))\n  File \"stanfit4anon_model_5199f1a75f06f34757697e3fbd1c8959_3113569296137687673.pyx\", line 373, in stanfit4anon_model_5199f1a75f06f34757697e3fbd1c8959_3113569296137687673._call_sampler_star\n  File \"stanfit4anon_model_5199f1a75f06f34757697e3fbd1c8959_3113569296137687673.pyx\", line 406, in stanfit4anon_model_5199f1a75f06f34757697e3fbd1c8959_3113569296137687673._call_sampler\nRuntimeError: Initialization failed.\n\"\"\"",
      "\nThe above exception was the direct cause of the following exception:\n",
      "\u001b[1;31mRuntimeError\u001b[0m                              Traceback (most recent call last)",
      "\u001b[1;32m<ipython-input-74-4cdf49c52228>\u001b[0m in \u001b[0;36m<module>\u001b[1;34m\u001b[0m\n\u001b[0;32m      1\u001b[0m \u001b[1;31m# Train the model and generate samples\u001b[0m\u001b[1;33m\u001b[0m\u001b[1;33m\u001b[0m\u001b[1;33m\u001b[0m\u001b[0m\n\u001b[1;32m----> 2\u001b[1;33m \u001b[0mfit\u001b[0m \u001b[1;33m=\u001b[0m \u001b[0msm\u001b[0m\u001b[1;33m.\u001b[0m\u001b[0msampling\u001b[0m\u001b[1;33m(\u001b[0m\u001b[0mdata\u001b[0m\u001b[1;33m=\u001b[0m\u001b[0mdata\u001b[0m\u001b[1;33m,\u001b[0m \u001b[0miter\u001b[0m\u001b[1;33m=\u001b[0m\u001b[1;36m1000\u001b[0m\u001b[1;33m,\u001b[0m \u001b[0mchains\u001b[0m\u001b[1;33m=\u001b[0m\u001b[1;36m4\u001b[0m\u001b[1;33m,\u001b[0m \u001b[0mwarmup\u001b[0m\u001b[1;33m=\u001b[0m\u001b[1;36m500\u001b[0m\u001b[1;33m,\u001b[0m \u001b[0mthin\u001b[0m\u001b[1;33m=\u001b[0m\u001b[1;36m1\u001b[0m\u001b[1;33m,\u001b[0m \u001b[0mseed\u001b[0m\u001b[1;33m=\u001b[0m\u001b[1;36m101\u001b[0m\u001b[1;33m)\u001b[0m\u001b[1;33m\u001b[0m\u001b[1;33m\u001b[0m\u001b[0m\n\u001b[0m",
      "\u001b[1;32m~\\Anaconda3\\lib\\site-packages\\pystan\\model.py\u001b[0m in \u001b[0;36msampling\u001b[1;34m(self, data, pars, chains, iter, warmup, thin, seed, init, sample_file, diagnostic_file, verbose, algorithm, control, n_jobs, **kwargs)\u001b[0m\n\u001b[0;32m    811\u001b[0m         \u001b[0mcall_sampler_args\u001b[0m \u001b[1;33m=\u001b[0m \u001b[0mizip\u001b[0m\u001b[1;33m(\u001b[0m\u001b[0mitertools\u001b[0m\u001b[1;33m.\u001b[0m\u001b[0mrepeat\u001b[0m\u001b[1;33m(\u001b[0m\u001b[0mdata\u001b[0m\u001b[1;33m)\u001b[0m\u001b[1;33m,\u001b[0m \u001b[0margs_list\u001b[0m\u001b[1;33m,\u001b[0m \u001b[0mitertools\u001b[0m\u001b[1;33m.\u001b[0m\u001b[0mrepeat\u001b[0m\u001b[1;33m(\u001b[0m\u001b[0mpars\u001b[0m\u001b[1;33m)\u001b[0m\u001b[1;33m)\u001b[0m\u001b[1;33m\u001b[0m\u001b[1;33m\u001b[0m\u001b[0m\n\u001b[0;32m    812\u001b[0m         \u001b[0mcall_sampler_star\u001b[0m \u001b[1;33m=\u001b[0m \u001b[0mself\u001b[0m\u001b[1;33m.\u001b[0m\u001b[0mmodule\u001b[0m\u001b[1;33m.\u001b[0m\u001b[0m_call_sampler_star\u001b[0m\u001b[1;33m\u001b[0m\u001b[1;33m\u001b[0m\u001b[0m\n\u001b[1;32m--> 813\u001b[1;33m         \u001b[0mret_and_samples\u001b[0m \u001b[1;33m=\u001b[0m \u001b[0m_map_parallel\u001b[0m\u001b[1;33m(\u001b[0m\u001b[0mcall_sampler_star\u001b[0m\u001b[1;33m,\u001b[0m \u001b[0mcall_sampler_args\u001b[0m\u001b[1;33m,\u001b[0m \u001b[0mn_jobs\u001b[0m\u001b[1;33m)\u001b[0m\u001b[1;33m\u001b[0m\u001b[1;33m\u001b[0m\u001b[0m\n\u001b[0m\u001b[0;32m    814\u001b[0m         \u001b[0msamples\u001b[0m \u001b[1;33m=\u001b[0m \u001b[1;33m[\u001b[0m\u001b[0msmpl\u001b[0m \u001b[1;32mfor\u001b[0m \u001b[0m_\u001b[0m\u001b[1;33m,\u001b[0m \u001b[0msmpl\u001b[0m \u001b[1;32min\u001b[0m \u001b[0mret_and_samples\u001b[0m\u001b[1;33m]\u001b[0m\u001b[1;33m\u001b[0m\u001b[1;33m\u001b[0m\u001b[0m\n\u001b[0;32m    815\u001b[0m \u001b[1;33m\u001b[0m\u001b[0m\n",
      "\u001b[1;32m~\\Anaconda3\\lib\\site-packages\\pystan\\model.py\u001b[0m in \u001b[0;36m_map_parallel\u001b[1;34m(function, args, n_jobs)\u001b[0m\n\u001b[0;32m     83\u001b[0m         \u001b[1;32mtry\u001b[0m\u001b[1;33m:\u001b[0m\u001b[1;33m\u001b[0m\u001b[1;33m\u001b[0m\u001b[0m\n\u001b[0;32m     84\u001b[0m             \u001b[0mpool\u001b[0m \u001b[1;33m=\u001b[0m \u001b[0mmultiprocessing\u001b[0m\u001b[1;33m.\u001b[0m\u001b[0mPool\u001b[0m\u001b[1;33m(\u001b[0m\u001b[0mprocesses\u001b[0m\u001b[1;33m=\u001b[0m\u001b[0mn_jobs\u001b[0m\u001b[1;33m)\u001b[0m\u001b[1;33m\u001b[0m\u001b[1;33m\u001b[0m\u001b[0m\n\u001b[1;32m---> 85\u001b[1;33m             \u001b[0mmap_result\u001b[0m \u001b[1;33m=\u001b[0m \u001b[0mpool\u001b[0m\u001b[1;33m.\u001b[0m\u001b[0mmap\u001b[0m\u001b[1;33m(\u001b[0m\u001b[0mfunction\u001b[0m\u001b[1;33m,\u001b[0m \u001b[0margs\u001b[0m\u001b[1;33m)\u001b[0m\u001b[1;33m\u001b[0m\u001b[1;33m\u001b[0m\u001b[0m\n\u001b[0m\u001b[0;32m     86\u001b[0m         \u001b[1;32mfinally\u001b[0m\u001b[1;33m:\u001b[0m\u001b[1;33m\u001b[0m\u001b[1;33m\u001b[0m\u001b[0m\n\u001b[0;32m     87\u001b[0m             \u001b[0mpool\u001b[0m\u001b[1;33m.\u001b[0m\u001b[0mclose\u001b[0m\u001b[1;33m(\u001b[0m\u001b[1;33m)\u001b[0m\u001b[1;33m\u001b[0m\u001b[1;33m\u001b[0m\u001b[0m\n",
      "\u001b[1;32m~\\Anaconda3\\lib\\multiprocessing\\pool.py\u001b[0m in \u001b[0;36mmap\u001b[1;34m(self, func, iterable, chunksize)\u001b[0m\n\u001b[0;32m    266\u001b[0m         \u001b[1;32min\u001b[0m \u001b[0ma\u001b[0m \u001b[0mlist\u001b[0m \u001b[0mthat\u001b[0m \u001b[1;32mis\u001b[0m \u001b[0mreturned\u001b[0m\u001b[1;33m.\u001b[0m\u001b[1;33m\u001b[0m\u001b[1;33m\u001b[0m\u001b[0m\n\u001b[0;32m    267\u001b[0m         '''\n\u001b[1;32m--> 268\u001b[1;33m         \u001b[1;32mreturn\u001b[0m \u001b[0mself\u001b[0m\u001b[1;33m.\u001b[0m\u001b[0m_map_async\u001b[0m\u001b[1;33m(\u001b[0m\u001b[0mfunc\u001b[0m\u001b[1;33m,\u001b[0m \u001b[0miterable\u001b[0m\u001b[1;33m,\u001b[0m \u001b[0mmapstar\u001b[0m\u001b[1;33m,\u001b[0m \u001b[0mchunksize\u001b[0m\u001b[1;33m)\u001b[0m\u001b[1;33m.\u001b[0m\u001b[0mget\u001b[0m\u001b[1;33m(\u001b[0m\u001b[1;33m)\u001b[0m\u001b[1;33m\u001b[0m\u001b[1;33m\u001b[0m\u001b[0m\n\u001b[0m\u001b[0;32m    269\u001b[0m \u001b[1;33m\u001b[0m\u001b[0m\n\u001b[0;32m    270\u001b[0m     \u001b[1;32mdef\u001b[0m \u001b[0mstarmap\u001b[0m\u001b[1;33m(\u001b[0m\u001b[0mself\u001b[0m\u001b[1;33m,\u001b[0m \u001b[0mfunc\u001b[0m\u001b[1;33m,\u001b[0m \u001b[0miterable\u001b[0m\u001b[1;33m,\u001b[0m \u001b[0mchunksize\u001b[0m\u001b[1;33m=\u001b[0m\u001b[1;32mNone\u001b[0m\u001b[1;33m)\u001b[0m\u001b[1;33m:\u001b[0m\u001b[1;33m\u001b[0m\u001b[1;33m\u001b[0m\u001b[0m\n",
      "\u001b[1;32m~\\Anaconda3\\lib\\multiprocessing\\pool.py\u001b[0m in \u001b[0;36mget\u001b[1;34m(self, timeout)\u001b[0m\n\u001b[0;32m    655\u001b[0m             \u001b[1;32mreturn\u001b[0m \u001b[0mself\u001b[0m\u001b[1;33m.\u001b[0m\u001b[0m_value\u001b[0m\u001b[1;33m\u001b[0m\u001b[1;33m\u001b[0m\u001b[0m\n\u001b[0;32m    656\u001b[0m         \u001b[1;32melse\u001b[0m\u001b[1;33m:\u001b[0m\u001b[1;33m\u001b[0m\u001b[1;33m\u001b[0m\u001b[0m\n\u001b[1;32m--> 657\u001b[1;33m             \u001b[1;32mraise\u001b[0m \u001b[0mself\u001b[0m\u001b[1;33m.\u001b[0m\u001b[0m_value\u001b[0m\u001b[1;33m\u001b[0m\u001b[1;33m\u001b[0m\u001b[0m\n\u001b[0m\u001b[0;32m    658\u001b[0m \u001b[1;33m\u001b[0m\u001b[0m\n\u001b[0;32m    659\u001b[0m     \u001b[1;32mdef\u001b[0m \u001b[0m_set\u001b[0m\u001b[1;33m(\u001b[0m\u001b[0mself\u001b[0m\u001b[1;33m,\u001b[0m \u001b[0mi\u001b[0m\u001b[1;33m,\u001b[0m \u001b[0mobj\u001b[0m\u001b[1;33m)\u001b[0m\u001b[1;33m:\u001b[0m\u001b[1;33m\u001b[0m\u001b[1;33m\u001b[0m\u001b[0m\n",
      "\u001b[1;31mRuntimeError\u001b[0m: Initialization failed."
     ]
    }
   ],
   "source": [
    "# Train the model and generate samples\n",
    "fit = sm.sampling(data=data, iter=1000, chains=4, warmup=500, thin=1, seed=101)"
   ]
  },
  {
   "cell_type": "code",
   "execution_count": null,
   "metadata": {},
   "outputs": [],
   "source": [
    "def sample_Z( T, p_inf, N, Z_0= 1):\n",
    "    Z = np.zeros(T,dtype=int)\n",
    "    Z[0] = Z_0;\n",
    "    for t in range(1, T):\n",
    "        Z[t] =  Z[t - 1]+np.random.binomial(N-Z[t-1], p_inf, 1) # one try    \n",
    "    return Z;\n",
    "\n",
    "def sample_X(T,Z, p_obs):\n",
    "    X = np.zeros(T,dtype=int)\n",
    "    for t in range(0, T):\n",
    "        X[t] =  Z[t] +np.random.negative_binomial(Z[t], p_obs, size=1) \n",
    "    return X;"
   ]
  },
  {
   "cell_type": "code",
   "execution_count": null,
   "metadata": {},
   "outputs": [],
   "source": [
    "# Parameters to be inferred\n",
    "p_inf   = 0.001\n",
    "p_obs   = 0.7\n",
    "\n",
    "# sample from a data generator\n",
    "Z = sample_Z( T, p_inf, N, Z_0= 10)\n",
    "X = sample_X( T, Z, p_obs)\n",
    "print(Z)\n",
    "print(X)"
   ]
  },
  {
   "cell_type": "code",
   "execution_count": null,
   "metadata": {},
   "outputs": [],
   "source": [
    "plt.plot(Z, color =\"red\")\n",
    "plt.plot(X)"
   ]
  },
  {
   "cell_type": "code",
   "execution_count": null,
   "metadata": {},
   "outputs": [],
   "source": [
    "# Put our data in a dictionary\n",
    "data = {'N': N, 'T': T, 'X': X, 'Z':Z}"
   ]
  },
  {
   "cell_type": "code",
   "execution_count": null,
   "metadata": {},
   "outputs": [],
   "source": [
    "# Train the model and generate samples\n",
    "fit = sm.sampling(data=data, iter=1000, chains=4, warmup=500, thin=1, seed=101)"
   ]
  },
  {
   "cell_type": "code",
   "execution_count": null,
   "metadata": {},
   "outputs": [],
   "source": [
    "print(fit)"
   ]
  },
  {
   "cell_type": "code",
   "execution_count": null,
   "metadata": {},
   "outputs": [],
   "source": [
    "summary_dict = fit.summary()\n",
    "df = pd.DataFrame(summary_dict['summary'], \n",
    "                  columns=summary_dict['summary_colnames'], \n",
    "                  index=summary_dict['summary_rownames'])\n",
    "\n",
    "alpha_mean, beta_mean = df['mean']['p_inf'], df['mean']['p_obs']\n",
    "\n",
    "# Extracting traces\n",
    "p_inf_f = fit['p_inf']\n",
    "p_obs_f = fit['p_obs']\n",
    "lp = fit['lp__']"
   ]
  },
  {
   "cell_type": "code",
   "execution_count": null,
   "metadata": {},
   "outputs": [],
   "source": [
    "def plot_trace(param, param_name='parameter'):\n",
    "  \"\"\"Plot the trace and posterior of a parameter.\"\"\"\n",
    "  \n",
    "  # Summary statistics\n",
    "  mean = np.mean(param)\n",
    "  median = np.median(param)\n",
    "  cred_min, cred_max = np.percentile(param, 2.5), np.percentile(param, 97.5)\n",
    "  \n",
    "  # Plotting\n",
    "  plt.subplot(2,1,1)\n",
    "  plt.plot(param)\n",
    "  plt.xlabel('samples')\n",
    "  plt.ylabel(param_name)\n",
    "  plt.axhline(mean, color='r', lw=2, linestyle='--')\n",
    "  plt.axhline(median, color='c', lw=2, linestyle='--')\n",
    "  plt.axhline(cred_min, linestyle=':', color='k', alpha=0.2)\n",
    "  plt.axhline(cred_max, linestyle=':', color='k', alpha=0.2)\n",
    "  plt.title('Trace and Posterior Distribution for {}'.format(param_name))\n",
    "\n",
    "  plt.subplot(2,1,2)\n",
    "  plt.hist(param, 30, density=True); sns.kdeplot(param, shade=True)\n",
    "  plt.xlabel(param_name)\n",
    "  plt.ylabel('density')\n",
    "  plt.axvline(mean, color='r', lw=2, linestyle='--',label='mean')\n",
    "  plt.axvline(median, color='c', lw=2, linestyle='--',label='median')\n",
    "  plt.axvline(cred_min, linestyle=':', color='k', alpha=0.2, label='95% CI')\n",
    "  plt.axvline(cred_max, linestyle=':', color='k', alpha=0.2)\n",
    "  \n",
    "  plt.gcf().tight_layout()\n",
    "  plt.legend()"
   ]
  },
  {
   "cell_type": "code",
   "execution_count": null,
   "metadata": {},
   "outputs": [],
   "source": [
    "plot_trace(p_obs_f, param_name='parameter')"
   ]
  },
  {
   "cell_type": "code",
   "execution_count": null,
   "metadata": {},
   "outputs": [],
   "source": []
  }
 ],
 "metadata": {
  "kernelspec": {
   "display_name": "Python 3",
   "language": "python",
   "name": "python3"
  },
  "language_info": {
   "codemirror_mode": {
    "name": "ipython",
    "version": 3
   },
   "file_extension": ".py",
   "mimetype": "text/x-python",
   "name": "python",
   "nbconvert_exporter": "python",
   "pygments_lexer": "ipython3",
   "version": "3.7.3"
  }
 },
 "nbformat": 4,
 "nbformat_minor": 2
}
